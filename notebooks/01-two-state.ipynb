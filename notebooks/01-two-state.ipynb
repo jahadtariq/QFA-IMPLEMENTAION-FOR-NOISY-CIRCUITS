{
 "cells": [
  {
   "cell_type": "markdown",
   "id": "fe23d74b",
   "metadata": {},
   "source": [
    "# $\\newcommand{\\MODp}{\\texttt{MOD}_{p}}\\newcommand{\\MOD}[1]{\\texttt{MOD}_{#1}}$2-State $\\texttt{MOD}_{p}$ Automata"
   ]
  },
  {
   "cell_type": "markdown",
   "id": "39b7cf65",
   "metadata": {},
   "source": [
    "The most basic type of automata which can recognise the $\\MODp$ language is a 2-State automaton. A 2-state automaton testing a 3 symbol word against $\\MOD{7}$  is given in the figure below.\n",
    "\n",
    "<center><img src=\"./figures/fig1.svg\" width=\"500px\"/></center>\n",
    "\n",
    "A two state automaton can be created via `qfa.TwoState`. The circuit above is constructed as an example"
   ]
  },
  {
   "cell_type": "code",
   "execution_count": 11,
   "id": "aacee7f1",
   "metadata": {},
   "outputs": [
    {
     "data": {
      "text/html": [
       "<pre style=\"word-wrap: normal;white-space: pre;background: #fff0;line-height: 1.1;font-family: &quot;Courier New&quot;,Courier,monospace\">           ┌──────────┐ ┌──────────┐ ┌──────────┐  ┌─┐\n",
       "      q_0: ┤ RY(4π/7) ├─┤ RY(4π/7) ├─┤ RY(4π/7) ├──┤M├\n",
       "           └──────────┘ └──────────┘ └──────────┘  └╥┘\n",
       "measure: 1/═════════════════════════════════════════╩═\n",
       "                                                    0 </pre>"
      ],
      "text/plain": [
       "           ┌──────────┐ ┌──────────┐ ┌──────────┐  ┌─┐\n",
       "      q_0: ┤ RY(4π/7) ├─┤ RY(4π/7) ├─┤ RY(4π/7) ├──┤M├\n",
       "           └──────────┘ └──────────┘ └──────────┘  └╥┘\n",
       "measure: 1/═════════════════════════════════════════╩═\n",
       "                                                    0 "
      ]
     },
     "execution_count": 11,
     "metadata": {},
     "output_type": "execute_result"
    }
   ],
   "source": [
    "from qfa import TwoState\n",
    "TwoState(p=7, word_length=3).draw(plot_barriers=False)"
   ]
  }
 ],
 "metadata": {
  "kernelspec": {
   "display_name": "repo",
   "language": "python",
   "name": "repo"
  },
  "language_info": {
   "codemirror_mode": {
    "name": "ipython",
    "version": 3
   },
   "file_extension": ".py",
   "mimetype": "text/x-python",
   "name": "python",
   "nbconvert_exporter": "python",
   "pygments_lexer": "ipython3",
   "version": "3.9.0"
  }
 },
 "nbformat": 4,
 "nbformat_minor": 5
}
